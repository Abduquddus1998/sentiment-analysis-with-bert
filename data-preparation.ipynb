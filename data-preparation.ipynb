{
 "cells": [
  {
   "cell_type": "code",
   "execution_count": 1,
   "id": "initial_id",
   "metadata": {
    "collapsed": true,
    "ExecuteTime": {
     "end_time": "2024-08-16T18:25:09.888377Z",
     "start_time": "2024-08-16T18:24:56.575650Z"
    }
   },
   "outputs": [],
   "source": [
    "import pandas as pd\n",
    "import numpy as np"
   ]
  },
  {
   "cell_type": "code",
   "outputs": [],
   "source": [
    "import warnings\n",
    "\n",
    "warnings.simplefilter(\"ignore\")"
   ],
   "metadata": {
    "collapsed": false,
    "ExecuteTime": {
     "end_time": "2024-08-16T18:25:09.908434Z",
     "start_time": "2024-08-16T18:25:09.889264Z"
    }
   },
   "id": "28ea6d57af30e038",
   "execution_count": 2
  },
  {
   "cell_type": "code",
   "outputs": [
    {
     "data": {
      "text/plain": "                                            Sentence  category\n0  when modi promised “minimum government maximum...      -1.0\n1  talk all the nonsense and continue all the dra...       0.0\n2  what did just say vote for modi  welcome bjp t...       1.0\n3  asking his supporters prefix chowkidar their n...       1.0\n4  answer who among these the most powerful world...       1.0\n5           kiya tho refresh maarkefir comment karo        0.0\n6  surat women perform yagna seeks divine grace f...       0.0\n7  this comes from cabinet which has scholars lik...       0.0\n8  with upcoming election india saga going import...       1.0\n9                         gandhi was gay does modi         1.0",
      "text/html": "<div>\n<style scoped>\n    .dataframe tbody tr th:only-of-type {\n        vertical-align: middle;\n    }\n\n    .dataframe tbody tr th {\n        vertical-align: top;\n    }\n\n    .dataframe thead th {\n        text-align: right;\n    }\n</style>\n<table border=\"1\" class=\"dataframe\">\n  <thead>\n    <tr style=\"text-align: right;\">\n      <th></th>\n      <th>Sentence</th>\n      <th>category</th>\n    </tr>\n  </thead>\n  <tbody>\n    <tr>\n      <th>0</th>\n      <td>when modi promised “minimum government maximum...</td>\n      <td>-1.0</td>\n    </tr>\n    <tr>\n      <th>1</th>\n      <td>talk all the nonsense and continue all the dra...</td>\n      <td>0.0</td>\n    </tr>\n    <tr>\n      <th>2</th>\n      <td>what did just say vote for modi  welcome bjp t...</td>\n      <td>1.0</td>\n    </tr>\n    <tr>\n      <th>3</th>\n      <td>asking his supporters prefix chowkidar their n...</td>\n      <td>1.0</td>\n    </tr>\n    <tr>\n      <th>4</th>\n      <td>answer who among these the most powerful world...</td>\n      <td>1.0</td>\n    </tr>\n    <tr>\n      <th>5</th>\n      <td>kiya tho refresh maarkefir comment karo</td>\n      <td>0.0</td>\n    </tr>\n    <tr>\n      <th>6</th>\n      <td>surat women perform yagna seeks divine grace f...</td>\n      <td>0.0</td>\n    </tr>\n    <tr>\n      <th>7</th>\n      <td>this comes from cabinet which has scholars lik...</td>\n      <td>0.0</td>\n    </tr>\n    <tr>\n      <th>8</th>\n      <td>with upcoming election india saga going import...</td>\n      <td>1.0</td>\n    </tr>\n    <tr>\n      <th>9</th>\n      <td>gandhi was gay does modi</td>\n      <td>1.0</td>\n    </tr>\n  </tbody>\n</table>\n</div>"
     },
     "execution_count": 3,
     "metadata": {},
     "output_type": "execute_result"
    }
   ],
   "source": [
    "twitter_df = pd.read_csv(\"twitter_data.csv\")\n",
    "twitter_df = twitter_df.rename(columns={\"clean_text\": \"Sentence\"})\n",
    "twitter_df.head(10)"
   ],
   "metadata": {
    "collapsed": false,
    "ExecuteTime": {
     "end_time": "2024-08-16T18:25:31.541239Z",
     "start_time": "2024-08-16T18:25:30.723500Z"
    }
   },
   "id": "e9eae41902c0d242",
   "execution_count": 3
  },
  {
   "cell_type": "code",
   "outputs": [
    {
     "name": "stdout",
     "output_type": "stream",
     "text": [
      "<class 'pandas.core.frame.DataFrame'>\n",
      "RangeIndex: 162980 entries, 0 to 162979\n",
      "Data columns (total 2 columns):\n",
      " #   Column    Non-Null Count   Dtype  \n",
      "---  ------    --------------   -----  \n",
      " 0   Sentence  162976 non-null  object \n",
      " 1   category  162973 non-null  float64\n",
      "dtypes: float64(1), object(1)\n",
      "memory usage: 2.5+ MB\n"
     ]
    }
   ],
   "source": [
    "twitter_df.info()"
   ],
   "metadata": {
    "collapsed": false,
    "ExecuteTime": {
     "end_time": "2024-08-16T18:25:33.807489Z",
     "start_time": "2024-08-16T18:25:33.781039Z"
    }
   },
   "id": "201a9e68d054b1c9",
   "execution_count": 4
  },
  {
   "cell_type": "code",
   "outputs": [
    {
     "name": "stdout",
     "output_type": "stream",
     "text": [
      "<class 'pandas.core.frame.DataFrame'>\n",
      "Index: 162969 entries, 0 to 162979\n",
      "Data columns (total 2 columns):\n",
      " #   Column    Non-Null Count   Dtype  \n",
      "---  ------    --------------   -----  \n",
      " 0   Sentence  162969 non-null  object \n",
      " 1   category  162969 non-null  float64\n",
      "dtypes: float64(1), object(1)\n",
      "memory usage: 3.7+ MB\n"
     ]
    }
   ],
   "source": [
    "twitter_posts = twitter_df.dropna()\n",
    "twitter_posts.info()"
   ],
   "metadata": {
    "collapsed": false,
    "ExecuteTime": {
     "end_time": "2024-08-16T18:25:37.180974Z",
     "start_time": "2024-08-16T18:25:37.076917Z"
    }
   },
   "id": "d60ecf7115f1736f",
   "execution_count": 5
  },
  {
   "cell_type": "code",
   "outputs": [
    {
     "data": {
      "text/plain": "Sentence    0\ncategory    0\ndtype: int64"
     },
     "execution_count": 6,
     "metadata": {},
     "output_type": "execute_result"
    }
   ],
   "source": [
    "twitter_posts.isnull().sum()"
   ],
   "metadata": {
    "collapsed": false,
    "ExecuteTime": {
     "end_time": "2024-08-16T18:25:39.755255Z",
     "start_time": "2024-08-16T18:25:39.679945Z"
    }
   },
   "id": "f7da672d02aee0d4",
   "execution_count": 6
  },
  {
   "cell_type": "code",
   "outputs": [
    {
     "data": {
      "text/plain": "0"
     },
     "execution_count": 7,
     "metadata": {},
     "output_type": "execute_result"
    }
   ],
   "source": [
    "twitter_posts.duplicated().sum()"
   ],
   "metadata": {
    "collapsed": false,
    "ExecuteTime": {
     "end_time": "2024-08-16T18:25:41.826765Z",
     "start_time": "2024-08-16T18:25:41.659841Z"
    }
   },
   "id": "94675916b433d763",
   "execution_count": 7
  },
  {
   "cell_type": "code",
   "outputs": [],
   "source": [
    "def decode_sentiment(sentiment):\n",
    "    if sentiment == -1.0:\n",
    "        return \"negative\"\n",
    "    elif sentiment == 0.0:\n",
    "        return \"neutral\"\n",
    "    else:\n",
    "        return \"positive\""
   ],
   "metadata": {
    "collapsed": false,
    "ExecuteTime": {
     "end_time": "2024-08-16T18:25:42.883727Z",
     "start_time": "2024-08-16T18:25:42.823921Z"
    }
   },
   "id": "b8488c202fe1348",
   "execution_count": 8
  },
  {
   "cell_type": "code",
   "outputs": [
    {
     "data": {
      "text/plain": "                                            Sentence  category Sentiment\n0  when modi promised “minimum government maximum...      -1.0  negative\n1  talk all the nonsense and continue all the dra...       0.0   neutral\n2  what did just say vote for modi  welcome bjp t...       1.0  positive\n3  asking his supporters prefix chowkidar their n...       1.0  positive\n4  answer who among these the most powerful world...       1.0  positive\n5           kiya tho refresh maarkefir comment karo        0.0   neutral\n6  surat women perform yagna seeks divine grace f...       0.0   neutral\n7  this comes from cabinet which has scholars lik...       0.0   neutral\n8  with upcoming election india saga going import...       1.0  positive\n9                         gandhi was gay does modi         1.0  positive",
      "text/html": "<div>\n<style scoped>\n    .dataframe tbody tr th:only-of-type {\n        vertical-align: middle;\n    }\n\n    .dataframe tbody tr th {\n        vertical-align: top;\n    }\n\n    .dataframe thead th {\n        text-align: right;\n    }\n</style>\n<table border=\"1\" class=\"dataframe\">\n  <thead>\n    <tr style=\"text-align: right;\">\n      <th></th>\n      <th>Sentence</th>\n      <th>category</th>\n      <th>Sentiment</th>\n    </tr>\n  </thead>\n  <tbody>\n    <tr>\n      <th>0</th>\n      <td>when modi promised “minimum government maximum...</td>\n      <td>-1.0</td>\n      <td>negative</td>\n    </tr>\n    <tr>\n      <th>1</th>\n      <td>talk all the nonsense and continue all the dra...</td>\n      <td>0.0</td>\n      <td>neutral</td>\n    </tr>\n    <tr>\n      <th>2</th>\n      <td>what did just say vote for modi  welcome bjp t...</td>\n      <td>1.0</td>\n      <td>positive</td>\n    </tr>\n    <tr>\n      <th>3</th>\n      <td>asking his supporters prefix chowkidar their n...</td>\n      <td>1.0</td>\n      <td>positive</td>\n    </tr>\n    <tr>\n      <th>4</th>\n      <td>answer who among these the most powerful world...</td>\n      <td>1.0</td>\n      <td>positive</td>\n    </tr>\n    <tr>\n      <th>5</th>\n      <td>kiya tho refresh maarkefir comment karo</td>\n      <td>0.0</td>\n      <td>neutral</td>\n    </tr>\n    <tr>\n      <th>6</th>\n      <td>surat women perform yagna seeks divine grace f...</td>\n      <td>0.0</td>\n      <td>neutral</td>\n    </tr>\n    <tr>\n      <th>7</th>\n      <td>this comes from cabinet which has scholars lik...</td>\n      <td>0.0</td>\n      <td>neutral</td>\n    </tr>\n    <tr>\n      <th>8</th>\n      <td>with upcoming election india saga going import...</td>\n      <td>1.0</td>\n      <td>positive</td>\n    </tr>\n    <tr>\n      <th>9</th>\n      <td>gandhi was gay does modi</td>\n      <td>1.0</td>\n      <td>positive</td>\n    </tr>\n  </tbody>\n</table>\n</div>"
     },
     "execution_count": 9,
     "metadata": {},
     "output_type": "execute_result"
    }
   ],
   "source": [
    "twitter_posts[\"Sentiment\"] = twitter_posts[\"category\"].apply(lambda sentiment: decode_sentiment(sentiment))\n",
    "\n",
    "twitter_posts.head(10)"
   ],
   "metadata": {
    "collapsed": false,
    "ExecuteTime": {
     "end_time": "2024-08-16T18:25:44.678104Z",
     "start_time": "2024-08-16T18:25:44.628565Z"
    }
   },
   "id": "762cdfccd1025e49",
   "execution_count": 9
  },
  {
   "cell_type": "code",
   "outputs": [
    {
     "data": {
      "text/plain": "                                            Sentence Sentiment\n0  when modi promised “minimum government maximum...  negative\n1  talk all the nonsense and continue all the dra...   neutral\n2  what did just say vote for modi  welcome bjp t...  positive\n3  asking his supporters prefix chowkidar their n...  positive\n4  answer who among these the most powerful world...  positive\n5           kiya tho refresh maarkefir comment karo    neutral\n6  surat women perform yagna seeks divine grace f...   neutral\n7  this comes from cabinet which has scholars lik...   neutral\n8  with upcoming election india saga going import...  positive\n9                         gandhi was gay does modi    positive",
      "text/html": "<div>\n<style scoped>\n    .dataframe tbody tr th:only-of-type {\n        vertical-align: middle;\n    }\n\n    .dataframe tbody tr th {\n        vertical-align: top;\n    }\n\n    .dataframe thead th {\n        text-align: right;\n    }\n</style>\n<table border=\"1\" class=\"dataframe\">\n  <thead>\n    <tr style=\"text-align: right;\">\n      <th></th>\n      <th>Sentence</th>\n      <th>Sentiment</th>\n    </tr>\n  </thead>\n  <tbody>\n    <tr>\n      <th>0</th>\n      <td>when modi promised “minimum government maximum...</td>\n      <td>negative</td>\n    </tr>\n    <tr>\n      <th>1</th>\n      <td>talk all the nonsense and continue all the dra...</td>\n      <td>neutral</td>\n    </tr>\n    <tr>\n      <th>2</th>\n      <td>what did just say vote for modi  welcome bjp t...</td>\n      <td>positive</td>\n    </tr>\n    <tr>\n      <th>3</th>\n      <td>asking his supporters prefix chowkidar their n...</td>\n      <td>positive</td>\n    </tr>\n    <tr>\n      <th>4</th>\n      <td>answer who among these the most powerful world...</td>\n      <td>positive</td>\n    </tr>\n    <tr>\n      <th>5</th>\n      <td>kiya tho refresh maarkefir comment karo</td>\n      <td>neutral</td>\n    </tr>\n    <tr>\n      <th>6</th>\n      <td>surat women perform yagna seeks divine grace f...</td>\n      <td>neutral</td>\n    </tr>\n    <tr>\n      <th>7</th>\n      <td>this comes from cabinet which has scholars lik...</td>\n      <td>neutral</td>\n    </tr>\n    <tr>\n      <th>8</th>\n      <td>with upcoming election india saga going import...</td>\n      <td>positive</td>\n    </tr>\n    <tr>\n      <th>9</th>\n      <td>gandhi was gay does modi</td>\n      <td>positive</td>\n    </tr>\n  </tbody>\n</table>\n</div>"
     },
     "execution_count": 10,
     "metadata": {},
     "output_type": "execute_result"
    }
   ],
   "source": [
    "twitter_posts = twitter_posts.drop(columns=[\"category\"])\n",
    "twitter_posts.head(10)"
   ],
   "metadata": {
    "collapsed": false,
    "ExecuteTime": {
     "end_time": "2024-08-16T18:25:45.985659Z",
     "start_time": "2024-08-16T18:25:45.940408Z"
    }
   },
   "id": "1c96879e9447783e",
   "execution_count": 10
  },
  {
   "cell_type": "code",
   "outputs": [
    {
     "data": {
      "text/plain": "                                            Sentence Sentiment\n0  The GeoSolutions technology will leverage Bene...  positive\n1  $ESI on lows, down $1.50 to $2.50 BK a real po...  negative\n2  For the last quarter of 2010 , Componenta 's n...  positive\n3  According to the Finnish-Russian Chamber of Co...   neutral\n4  The Swedish buyout firm has sold its remaining...   neutral\n5    $SPY wouldn't be surprised to see a green close  positive\n6  Shell's $70 Billion BG Deal Meets Shareholder ...  negative\n7  SSH COMMUNICATIONS SECURITY CORP STOCK EXCHANG...  negative\n8  Kone 's net sales rose by some 14 % year-on-ye...  positive\n9  The Stockmann department store will have a tot...   neutral",
      "text/html": "<div>\n<style scoped>\n    .dataframe tbody tr th:only-of-type {\n        vertical-align: middle;\n    }\n\n    .dataframe tbody tr th {\n        vertical-align: top;\n    }\n\n    .dataframe thead th {\n        text-align: right;\n    }\n</style>\n<table border=\"1\" class=\"dataframe\">\n  <thead>\n    <tr style=\"text-align: right;\">\n      <th></th>\n      <th>Sentence</th>\n      <th>Sentiment</th>\n    </tr>\n  </thead>\n  <tbody>\n    <tr>\n      <th>0</th>\n      <td>The GeoSolutions technology will leverage Bene...</td>\n      <td>positive</td>\n    </tr>\n    <tr>\n      <th>1</th>\n      <td>$ESI on lows, down $1.50 to $2.50 BK a real po...</td>\n      <td>negative</td>\n    </tr>\n    <tr>\n      <th>2</th>\n      <td>For the last quarter of 2010 , Componenta 's n...</td>\n      <td>positive</td>\n    </tr>\n    <tr>\n      <th>3</th>\n      <td>According to the Finnish-Russian Chamber of Co...</td>\n      <td>neutral</td>\n    </tr>\n    <tr>\n      <th>4</th>\n      <td>The Swedish buyout firm has sold its remaining...</td>\n      <td>neutral</td>\n    </tr>\n    <tr>\n      <th>5</th>\n      <td>$SPY wouldn't be surprised to see a green close</td>\n      <td>positive</td>\n    </tr>\n    <tr>\n      <th>6</th>\n      <td>Shell's $70 Billion BG Deal Meets Shareholder ...</td>\n      <td>negative</td>\n    </tr>\n    <tr>\n      <th>7</th>\n      <td>SSH COMMUNICATIONS SECURITY CORP STOCK EXCHANG...</td>\n      <td>negative</td>\n    </tr>\n    <tr>\n      <th>8</th>\n      <td>Kone 's net sales rose by some 14 % year-on-ye...</td>\n      <td>positive</td>\n    </tr>\n    <tr>\n      <th>9</th>\n      <td>The Stockmann department store will have a tot...</td>\n      <td>neutral</td>\n    </tr>\n  </tbody>\n</table>\n</div>"
     },
     "execution_count": 11,
     "metadata": {},
     "output_type": "execute_result"
    }
   ],
   "source": [
    "financial_df = pd.read_csv(\"financial_sentiment.csv\")\n",
    "financial_df.head(10)"
   ],
   "metadata": {
    "collapsed": false,
    "ExecuteTime": {
     "end_time": "2024-08-16T18:25:48.311576Z",
     "start_time": "2024-08-16T18:25:48.262941Z"
    }
   },
   "id": "8de7ef57d32c1284",
   "execution_count": 11
  },
  {
   "cell_type": "code",
   "outputs": [
    {
     "name": "stdout",
     "output_type": "stream",
     "text": [
      "<class 'pandas.core.frame.DataFrame'>\n",
      "RangeIndex: 5842 entries, 0 to 5841\n",
      "Data columns (total 2 columns):\n",
      " #   Column     Non-Null Count  Dtype \n",
      "---  ------     --------------  ----- \n",
      " 0   Sentence   5842 non-null   object\n",
      " 1   Sentiment  5842 non-null   object\n",
      "dtypes: object(2)\n",
      "memory usage: 91.4+ KB\n"
     ]
    }
   ],
   "source": [
    "financial_df.info()"
   ],
   "metadata": {
    "collapsed": false,
    "ExecuteTime": {
     "end_time": "2024-08-16T18:25:51.225668Z",
     "start_time": "2024-08-16T18:25:51.097959Z"
    }
   },
   "id": "2739f151ccd68c16",
   "execution_count": 12
  },
  {
   "cell_type": "code",
   "outputs": [
    {
     "data": {
      "text/plain": "                                            Sentence Sentiment\n0  when modi promised “minimum government maximum...  negative\n1  talk all the nonsense and continue all the dra...   neutral\n2  what did just say vote for modi  welcome bjp t...  positive\n3  asking his supporters prefix chowkidar their n...  positive\n4  answer who among these the most powerful world...  positive\n5           kiya tho refresh maarkefir comment karo    neutral\n6  surat women perform yagna seeks divine grace f...   neutral\n7  this comes from cabinet which has scholars lik...   neutral\n8  with upcoming election india saga going import...  positive\n9                         gandhi was gay does modi    positive",
      "text/html": "<div>\n<style scoped>\n    .dataframe tbody tr th:only-of-type {\n        vertical-align: middle;\n    }\n\n    .dataframe tbody tr th {\n        vertical-align: top;\n    }\n\n    .dataframe thead th {\n        text-align: right;\n    }\n</style>\n<table border=\"1\" class=\"dataframe\">\n  <thead>\n    <tr style=\"text-align: right;\">\n      <th></th>\n      <th>Sentence</th>\n      <th>Sentiment</th>\n    </tr>\n  </thead>\n  <tbody>\n    <tr>\n      <th>0</th>\n      <td>when modi promised “minimum government maximum...</td>\n      <td>negative</td>\n    </tr>\n    <tr>\n      <th>1</th>\n      <td>talk all the nonsense and continue all the dra...</td>\n      <td>neutral</td>\n    </tr>\n    <tr>\n      <th>2</th>\n      <td>what did just say vote for modi  welcome bjp t...</td>\n      <td>positive</td>\n    </tr>\n    <tr>\n      <th>3</th>\n      <td>asking his supporters prefix chowkidar their n...</td>\n      <td>positive</td>\n    </tr>\n    <tr>\n      <th>4</th>\n      <td>answer who among these the most powerful world...</td>\n      <td>positive</td>\n    </tr>\n    <tr>\n      <th>5</th>\n      <td>kiya tho refresh maarkefir comment karo</td>\n      <td>neutral</td>\n    </tr>\n    <tr>\n      <th>6</th>\n      <td>surat women perform yagna seeks divine grace f...</td>\n      <td>neutral</td>\n    </tr>\n    <tr>\n      <th>7</th>\n      <td>this comes from cabinet which has scholars lik...</td>\n      <td>neutral</td>\n    </tr>\n    <tr>\n      <th>8</th>\n      <td>with upcoming election india saga going import...</td>\n      <td>positive</td>\n    </tr>\n    <tr>\n      <th>9</th>\n      <td>gandhi was gay does modi</td>\n      <td>positive</td>\n    </tr>\n  </tbody>\n</table>\n</div>"
     },
     "execution_count": 13,
     "metadata": {},
     "output_type": "execute_result"
    }
   ],
   "source": [
    "sentiment_df = pd.concat([twitter_posts, financial_df], axis=0, ignore_index=True)\n",
    "sentiment_df.head(10)"
   ],
   "metadata": {
    "collapsed": false,
    "ExecuteTime": {
     "end_time": "2024-08-16T18:25:58.945862Z",
     "start_time": "2024-08-16T18:25:58.920417Z"
    }
   },
   "id": "fc2be11048c3da2d",
   "execution_count": 13
  },
  {
   "cell_type": "code",
   "outputs": [
    {
     "data": {
      "text/plain": "                                                 Sentence Sentiment\n168801  Operating profit fell to EUR 38.1 mn from EUR ...  negative\n168802  In 2008 , Kemira recorded revenue of approxima...   neutral\n168803  Investments in product development stood at 6....   neutral\n168804  HSBC Says Unit to Book $585 Million Charge on ...  negative\n168805  Daily Mail parent company in talks with potent...  positive\n168806  RISING costs have forced packaging producer Hu...  negative\n168807  Nordic Walking was first used as a summer trai...   neutral\n168808  According shipping company Viking Line , the E...   neutral\n168809  In the building and home improvement trade , s...   neutral\n168810  HELSINKI AFX - KCI Konecranes said it has won ...  positive",
      "text/html": "<div>\n<style scoped>\n    .dataframe tbody tr th:only-of-type {\n        vertical-align: middle;\n    }\n\n    .dataframe tbody tr th {\n        vertical-align: top;\n    }\n\n    .dataframe thead th {\n        text-align: right;\n    }\n</style>\n<table border=\"1\" class=\"dataframe\">\n  <thead>\n    <tr style=\"text-align: right;\">\n      <th></th>\n      <th>Sentence</th>\n      <th>Sentiment</th>\n    </tr>\n  </thead>\n  <tbody>\n    <tr>\n      <th>168801</th>\n      <td>Operating profit fell to EUR 38.1 mn from EUR ...</td>\n      <td>negative</td>\n    </tr>\n    <tr>\n      <th>168802</th>\n      <td>In 2008 , Kemira recorded revenue of approxima...</td>\n      <td>neutral</td>\n    </tr>\n    <tr>\n      <th>168803</th>\n      <td>Investments in product development stood at 6....</td>\n      <td>neutral</td>\n    </tr>\n    <tr>\n      <th>168804</th>\n      <td>HSBC Says Unit to Book $585 Million Charge on ...</td>\n      <td>negative</td>\n    </tr>\n    <tr>\n      <th>168805</th>\n      <td>Daily Mail parent company in talks with potent...</td>\n      <td>positive</td>\n    </tr>\n    <tr>\n      <th>168806</th>\n      <td>RISING costs have forced packaging producer Hu...</td>\n      <td>negative</td>\n    </tr>\n    <tr>\n      <th>168807</th>\n      <td>Nordic Walking was first used as a summer trai...</td>\n      <td>neutral</td>\n    </tr>\n    <tr>\n      <th>168808</th>\n      <td>According shipping company Viking Line , the E...</td>\n      <td>neutral</td>\n    </tr>\n    <tr>\n      <th>168809</th>\n      <td>In the building and home improvement trade , s...</td>\n      <td>neutral</td>\n    </tr>\n    <tr>\n      <th>168810</th>\n      <td>HELSINKI AFX - KCI Konecranes said it has won ...</td>\n      <td>positive</td>\n    </tr>\n  </tbody>\n</table>\n</div>"
     },
     "execution_count": 14,
     "metadata": {},
     "output_type": "execute_result"
    }
   ],
   "source": [
    "sentiment_df.tail(10)"
   ],
   "metadata": {
    "collapsed": false,
    "ExecuteTime": {
     "end_time": "2024-08-16T18:26:01.760227Z",
     "start_time": "2024-08-16T18:26:01.595421Z"
    }
   },
   "id": "c32707972cd6107c",
   "execution_count": 14
  },
  {
   "cell_type": "code",
   "outputs": [
    {
     "data": {
      "text/plain": "                                                 Sentence Sentiment\n87669   anyone upa didn’ give positive response missio...  positive\n31624   wish karma ignoring bhagawan ram and gomatha c...   neutral\n163878  you mean taarikh taarikh will wonderful see mo...  positive\n111440  rahul goes muslim dominated constituency congr...   neutral\n2730    hahahahahahaha they got their ass whooped paki...  negative\n113136                                but modi isnt fool    neutral\n168557  congress first family wont back power modi tim...  positive\n128842  dear kumar swamy mandya you telling for nikil ...   neutral\n142673  honestly think must appreciate modi does even ...  negative\n72886   think arnab shuld ask modi whether likes dhosa...  positive",
      "text/html": "<div>\n<style scoped>\n    .dataframe tbody tr th:only-of-type {\n        vertical-align: middle;\n    }\n\n    .dataframe tbody tr th {\n        vertical-align: top;\n    }\n\n    .dataframe thead th {\n        text-align: right;\n    }\n</style>\n<table border=\"1\" class=\"dataframe\">\n  <thead>\n    <tr style=\"text-align: right;\">\n      <th></th>\n      <th>Sentence</th>\n      <th>Sentiment</th>\n    </tr>\n  </thead>\n  <tbody>\n    <tr>\n      <th>87669</th>\n      <td>anyone upa didn’ give positive response missio...</td>\n      <td>positive</td>\n    </tr>\n    <tr>\n      <th>31624</th>\n      <td>wish karma ignoring bhagawan ram and gomatha c...</td>\n      <td>neutral</td>\n    </tr>\n    <tr>\n      <th>163878</th>\n      <td>you mean taarikh taarikh will wonderful see mo...</td>\n      <td>positive</td>\n    </tr>\n    <tr>\n      <th>111440</th>\n      <td>rahul goes muslim dominated constituency congr...</td>\n      <td>neutral</td>\n    </tr>\n    <tr>\n      <th>2730</th>\n      <td>hahahahahahaha they got their ass whooped paki...</td>\n      <td>negative</td>\n    </tr>\n    <tr>\n      <th>113136</th>\n      <td>but modi isnt fool</td>\n      <td>neutral</td>\n    </tr>\n    <tr>\n      <th>168557</th>\n      <td>congress first family wont back power modi tim...</td>\n      <td>positive</td>\n    </tr>\n    <tr>\n      <th>128842</th>\n      <td>dear kumar swamy mandya you telling for nikil ...</td>\n      <td>neutral</td>\n    </tr>\n    <tr>\n      <th>142673</th>\n      <td>honestly think must appreciate modi does even ...</td>\n      <td>negative</td>\n    </tr>\n    <tr>\n      <th>72886</th>\n      <td>think arnab shuld ask modi whether likes dhosa...</td>\n      <td>positive</td>\n    </tr>\n  </tbody>\n</table>\n</div>"
     },
     "execution_count": 15,
     "metadata": {},
     "output_type": "execute_result"
    }
   ],
   "source": [
    "sentiment_df_copy = sentiment_df.sample(frac=1, random_state=42).reset_index(drop=True)\n",
    "sentiment_df_copy.sample(10)"
   ],
   "metadata": {
    "collapsed": false,
    "ExecuteTime": {
     "end_time": "2024-08-16T18:27:31.889195Z",
     "start_time": "2024-08-16T18:27:31.791421Z"
    }
   },
   "id": "7de02069355c4aac",
   "execution_count": 15
  },
  {
   "cell_type": "code",
   "outputs": [
    {
     "data": {
      "text/plain": "           textID                                               text  \\\n5211   6b74e03b6d   Oh I`ve got that one & the stp x step one on ...   \n3174   60c374b906  Is eating BBQ Jalapeno Torta Subway from Los C...   \n2943   dc91cd5158  Dell FX100 Pc-over-IP audio device (Teradici) ...   \n3419   d438d00c44   What the hell Ross?! Where is Hugh Laurie! He...   \n15449  1dec7590cb    hehee!! yea its supposed to sound mean.. hahhaa   \n15721  d136417805    I`m sorry...I`ll make sure I do that next time.   \n26390  6b9f7a3faf  i need a jb but i dread the fact that it will ...   \n13413  e1eac039b5                DAMMIT! lets have a private session   \n12486  0a887ad3bc  Yao...broken foot...so much for that series  D...   \n1187   3474d5dce1  outta the shower, too bad justin couldn`t spen...   \n\n                                           selected_text sentiment  \n5211   Oh I`ve got that one & the stp x step one on V...   neutral  \n3174   Is eating BBQ Jalapeno Torta Subway from Los C...   neutral  \n2943                                                hard  negative  \n3419   What the hell Ross?! Where is Hugh Laurie! He ...   neutral  \n15449                            supposed to sound mean.  negative  \n15721                                             sorry.  negative  \n26390                                              dread  negative  \n13413                                            DAMMIT!  negative  \n12486                                             broken  negative  \n1187                                                 bad  negative  ",
      "text/html": "<div>\n<style scoped>\n    .dataframe tbody tr th:only-of-type {\n        vertical-align: middle;\n    }\n\n    .dataframe tbody tr th {\n        vertical-align: top;\n    }\n\n    .dataframe thead th {\n        text-align: right;\n    }\n</style>\n<table border=\"1\" class=\"dataframe\">\n  <thead>\n    <tr style=\"text-align: right;\">\n      <th></th>\n      <th>textID</th>\n      <th>text</th>\n      <th>selected_text</th>\n      <th>sentiment</th>\n    </tr>\n  </thead>\n  <tbody>\n    <tr>\n      <th>5211</th>\n      <td>6b74e03b6d</td>\n      <td>Oh I`ve got that one &amp; the stp x step one on ...</td>\n      <td>Oh I`ve got that one &amp; the stp x step one on V...</td>\n      <td>neutral</td>\n    </tr>\n    <tr>\n      <th>3174</th>\n      <td>60c374b906</td>\n      <td>Is eating BBQ Jalapeno Torta Subway from Los C...</td>\n      <td>Is eating BBQ Jalapeno Torta Subway from Los C...</td>\n      <td>neutral</td>\n    </tr>\n    <tr>\n      <th>2943</th>\n      <td>dc91cd5158</td>\n      <td>Dell FX100 Pc-over-IP audio device (Teradici) ...</td>\n      <td>hard</td>\n      <td>negative</td>\n    </tr>\n    <tr>\n      <th>3419</th>\n      <td>d438d00c44</td>\n      <td>What the hell Ross?! Where is Hugh Laurie! He...</td>\n      <td>What the hell Ross?! Where is Hugh Laurie! He ...</td>\n      <td>neutral</td>\n    </tr>\n    <tr>\n      <th>15449</th>\n      <td>1dec7590cb</td>\n      <td>hehee!! yea its supposed to sound mean.. hahhaa</td>\n      <td>supposed to sound mean.</td>\n      <td>negative</td>\n    </tr>\n    <tr>\n      <th>15721</th>\n      <td>d136417805</td>\n      <td>I`m sorry...I`ll make sure I do that next time.</td>\n      <td>sorry.</td>\n      <td>negative</td>\n    </tr>\n    <tr>\n      <th>26390</th>\n      <td>6b9f7a3faf</td>\n      <td>i need a jb but i dread the fact that it will ...</td>\n      <td>dread</td>\n      <td>negative</td>\n    </tr>\n    <tr>\n      <th>13413</th>\n      <td>e1eac039b5</td>\n      <td>DAMMIT! lets have a private session</td>\n      <td>DAMMIT!</td>\n      <td>negative</td>\n    </tr>\n    <tr>\n      <th>12486</th>\n      <td>0a887ad3bc</td>\n      <td>Yao...broken foot...so much for that series  D...</td>\n      <td>broken</td>\n      <td>negative</td>\n    </tr>\n    <tr>\n      <th>1187</th>\n      <td>3474d5dce1</td>\n      <td>outta the shower, too bad justin couldn`t spen...</td>\n      <td>bad</td>\n      <td>negative</td>\n    </tr>\n  </tbody>\n</table>\n</div>"
     },
     "execution_count": 16,
     "metadata": {},
     "output_type": "execute_result"
    }
   ],
   "source": [
    "tweets_df = pd.read_csv(\"tweets3.csv\")\n",
    "tweets_df.sample(10)"
   ],
   "metadata": {
    "collapsed": false,
    "ExecuteTime": {
     "end_time": "2024-08-16T18:28:13.183287Z",
     "start_time": "2024-08-16T18:28:13.010562Z"
    }
   },
   "id": "9d29d15fcec5e2f0",
   "execution_count": 16
  },
  {
   "cell_type": "code",
   "outputs": [
    {
     "name": "stdout",
     "output_type": "stream",
     "text": [
      "<class 'pandas.core.frame.DataFrame'>\n",
      "RangeIndex: 27481 entries, 0 to 27480\n",
      "Data columns (total 4 columns):\n",
      " #   Column         Non-Null Count  Dtype \n",
      "---  ------         --------------  ----- \n",
      " 0   textID         27481 non-null  object\n",
      " 1   text           27480 non-null  object\n",
      " 2   selected_text  27480 non-null  object\n",
      " 3   sentiment      27481 non-null  object\n",
      "dtypes: object(4)\n",
      "memory usage: 858.9+ KB\n"
     ]
    }
   ],
   "source": [
    "tweets_df.info()"
   ],
   "metadata": {
    "collapsed": false,
    "ExecuteTime": {
     "end_time": "2024-08-16T18:28:41.267369Z",
     "start_time": "2024-08-16T18:28:41.164283Z"
    }
   },
   "id": "f19720bc6a33239a",
   "execution_count": 17
  },
  {
   "cell_type": "code",
   "outputs": [
    {
     "name": "stdout",
     "output_type": "stream",
     "text": [
      "<class 'pandas.core.frame.DataFrame'>\n",
      "Index: 27480 entries, 0 to 27480\n",
      "Data columns (total 4 columns):\n",
      " #   Column         Non-Null Count  Dtype \n",
      "---  ------         --------------  ----- \n",
      " 0   textID         27480 non-null  object\n",
      " 1   text           27480 non-null  object\n",
      " 2   selected_text  27480 non-null  object\n",
      " 3   sentiment      27480 non-null  object\n",
      "dtypes: object(4)\n",
      "memory usage: 1.0+ MB\n"
     ]
    }
   ],
   "source": [
    "new_tweets = tweets_df.dropna()\n",
    "new_tweets.info()"
   ],
   "metadata": {
    "collapsed": false,
    "ExecuteTime": {
     "end_time": "2024-08-16T18:29:21.304209Z",
     "start_time": "2024-08-16T18:29:21.290314Z"
    }
   },
   "id": "1619a9fcb9f3bd66",
   "execution_count": 18
  },
  {
   "cell_type": "code",
   "outputs": [
    {
     "data": {
      "text/plain": "textID           0\ntext             0\nselected_text    0\nsentiment        0\ndtype: int64"
     },
     "execution_count": 19,
     "metadata": {},
     "output_type": "execute_result"
    }
   ],
   "source": [
    "new_tweets.isnull().sum()"
   ],
   "metadata": {
    "collapsed": false,
    "ExecuteTime": {
     "end_time": "2024-08-16T18:30:14.084098Z",
     "start_time": "2024-08-16T18:30:14.069353Z"
    }
   },
   "id": "3e91d0d8e1d7a0c6",
   "execution_count": 19
  },
  {
   "cell_type": "code",
   "outputs": [
    {
     "data": {
      "text/plain": "0"
     },
     "execution_count": 20,
     "metadata": {},
     "output_type": "execute_result"
    }
   ],
   "source": [
    "new_tweets.duplicated().sum()"
   ],
   "metadata": {
    "collapsed": false,
    "ExecuteTime": {
     "end_time": "2024-08-16T18:30:32.863117Z",
     "start_time": "2024-08-16T18:30:32.824758Z"
    }
   },
   "id": "ef56949ee58f081e",
   "execution_count": 20
  },
  {
   "cell_type": "code",
   "outputs": [
    {
     "data": {
      "text/plain": "                                            Sentence Sentiment\n0                I`d have responded, if I were going   neutral\n1      Sooo SAD I will miss you here in San Diego!!!  negative\n2                          my boss is bullying me...  negative\n3                     what interview! leave me alone  negative\n4   Sons of ****, why couldn`t they put them on t...  negative",
      "text/html": "<div>\n<style scoped>\n    .dataframe tbody tr th:only-of-type {\n        vertical-align: middle;\n    }\n\n    .dataframe tbody tr th {\n        vertical-align: top;\n    }\n\n    .dataframe thead th {\n        text-align: right;\n    }\n</style>\n<table border=\"1\" class=\"dataframe\">\n  <thead>\n    <tr style=\"text-align: right;\">\n      <th></th>\n      <th>Sentence</th>\n      <th>Sentiment</th>\n    </tr>\n  </thead>\n  <tbody>\n    <tr>\n      <th>0</th>\n      <td>I`d have responded, if I were going</td>\n      <td>neutral</td>\n    </tr>\n    <tr>\n      <th>1</th>\n      <td>Sooo SAD I will miss you here in San Diego!!!</td>\n      <td>negative</td>\n    </tr>\n    <tr>\n      <th>2</th>\n      <td>my boss is bullying me...</td>\n      <td>negative</td>\n    </tr>\n    <tr>\n      <th>3</th>\n      <td>what interview! leave me alone</td>\n      <td>negative</td>\n    </tr>\n    <tr>\n      <th>4</th>\n      <td>Sons of ****, why couldn`t they put them on t...</td>\n      <td>negative</td>\n    </tr>\n  </tbody>\n</table>\n</div>"
     },
     "execution_count": 22,
     "metadata": {},
     "output_type": "execute_result"
    }
   ],
   "source": [
    "new_tweets_copy = new_tweets[[\"text\", \"sentiment\"]].rename(columns={\"text\": \"Sentence\", \"sentiment\": \"Sentiment\"})\n",
    "new_tweets_copy.head()"
   ],
   "metadata": {
    "collapsed": false,
    "ExecuteTime": {
     "end_time": "2024-08-16T18:35:31.010166Z",
     "start_time": "2024-08-16T18:35:30.952281Z"
    }
   },
   "id": "46a257f3a860a313",
   "execution_count": 22
  },
  {
   "cell_type": "code",
   "outputs": [
    {
     "data": {
      "text/plain": "Sentiment\nneutral     11117\npositive     8582\nnegative     7781\nName: count, dtype: int64"
     },
     "execution_count": 23,
     "metadata": {},
     "output_type": "execute_result"
    }
   ],
   "source": [
    "new_tweets_copy[\"Sentiment\"].value_counts()"
   ],
   "metadata": {
    "collapsed": false,
    "ExecuteTime": {
     "end_time": "2024-08-16T18:35:58.124167Z",
     "start_time": "2024-08-16T18:35:58.092718Z"
    }
   },
   "id": "cfbf49746e63bae7",
   "execution_count": 23
  },
  {
   "cell_type": "code",
   "outputs": [],
   "source": [
    "final_df = pd.concat([sentiment_df_copy, new_tweets_copy], axis=0, ignore_index=True)\n",
    "final_df_copy = final_df.sample(frac=1, random_state=42).reset_index(drop=True)"
   ],
   "metadata": {
    "collapsed": false,
    "ExecuteTime": {
     "end_time": "2024-08-16T18:37:54.777554Z",
     "start_time": "2024-08-16T18:37:54.686281Z"
    }
   },
   "id": "83f3d95453aaee86",
   "execution_count": 24
  },
  {
   "cell_type": "code",
   "outputs": [
    {
     "data": {
      "text/plain": "                                            Sentence Sentiment\n0  lok sabha election live modi address rallies t...  positive\n1                               live public meeting   positive\n2  any one who asks modi rahul unconstitutional a...   neutral\n3  pmopm modi kickstarts bjp’ campaign for lok sa...   neutral\n4  nehru died 1964 isro was estd 1969 overenthusi...   neutral",
      "text/html": "<div>\n<style scoped>\n    .dataframe tbody tr th:only-of-type {\n        vertical-align: middle;\n    }\n\n    .dataframe tbody tr th {\n        vertical-align: top;\n    }\n\n    .dataframe thead th {\n        text-align: right;\n    }\n</style>\n<table border=\"1\" class=\"dataframe\">\n  <thead>\n    <tr style=\"text-align: right;\">\n      <th></th>\n      <th>Sentence</th>\n      <th>Sentiment</th>\n    </tr>\n  </thead>\n  <tbody>\n    <tr>\n      <th>0</th>\n      <td>lok sabha election live modi address rallies t...</td>\n      <td>positive</td>\n    </tr>\n    <tr>\n      <th>1</th>\n      <td>live public meeting</td>\n      <td>positive</td>\n    </tr>\n    <tr>\n      <th>2</th>\n      <td>any one who asks modi rahul unconstitutional a...</td>\n      <td>neutral</td>\n    </tr>\n    <tr>\n      <th>3</th>\n      <td>pmopm modi kickstarts bjp’ campaign for lok sa...</td>\n      <td>neutral</td>\n    </tr>\n    <tr>\n      <th>4</th>\n      <td>nehru died 1964 isro was estd 1969 overenthusi...</td>\n      <td>neutral</td>\n    </tr>\n  </tbody>\n</table>\n</div>"
     },
     "execution_count": 25,
     "metadata": {},
     "output_type": "execute_result"
    }
   ],
   "source": [
    "final_df_copy.head()"
   ],
   "metadata": {
    "collapsed": false,
    "ExecuteTime": {
     "end_time": "2024-08-16T18:37:56.163669Z",
     "start_time": "2024-08-16T18:37:56.137686Z"
    }
   },
   "id": "40ab3fa6f80b0327",
   "execution_count": 25
  },
  {
   "cell_type": "code",
   "outputs": [
    {
     "name": "stdout",
     "output_type": "stream",
     "text": [
      "<class 'pandas.core.frame.DataFrame'>\n",
      "RangeIndex: 196291 entries, 0 to 196290\n",
      "Data columns (total 2 columns):\n",
      " #   Column     Non-Null Count   Dtype \n",
      "---  ------     --------------   ----- \n",
      " 0   Sentence   196291 non-null  object\n",
      " 1   Sentiment  196291 non-null  object\n",
      "dtypes: object(2)\n",
      "memory usage: 3.0+ MB\n"
     ]
    }
   ],
   "source": [
    "final_df_copy.info()"
   ],
   "metadata": {
    "collapsed": false,
    "ExecuteTime": {
     "end_time": "2024-08-16T18:38:09.714664Z",
     "start_time": "2024-08-16T18:38:09.689384Z"
    }
   },
   "id": "3576c4b89e0ef925",
   "execution_count": 26
  },
  {
   "cell_type": "code",
   "outputs": [
    {
     "data": {
      "text/plain": "Sentiment\npositive    82683\nneutral     69458\nnegative    44150\nName: count, dtype: int64"
     },
     "execution_count": 27,
     "metadata": {},
     "output_type": "execute_result"
    }
   ],
   "source": [
    "final_df_copy[\"Sentiment\"].value_counts()"
   ],
   "metadata": {
    "collapsed": false,
    "ExecuteTime": {
     "end_time": "2024-08-16T18:38:40.766727Z",
     "start_time": "2024-08-16T18:38:40.745814Z"
    }
   },
   "id": "a99ee686d885efdb",
   "execution_count": 27
  },
  {
   "cell_type": "code",
   "outputs": [],
   "source": [
    "final_df_copy.to_csv('twitter_posts_sentiment_new.csv', index=False)"
   ],
   "metadata": {
    "collapsed": false,
    "ExecuteTime": {
     "end_time": "2024-08-16T18:39:04.797804Z",
     "start_time": "2024-08-16T18:39:03.433824Z"
    }
   },
   "id": "93189aec166f7bc5",
   "execution_count": 28
  }
 ],
 "metadata": {
  "kernelspec": {
   "display_name": "Python 3",
   "language": "python",
   "name": "python3"
  },
  "language_info": {
   "codemirror_mode": {
    "name": "ipython",
    "version": 2
   },
   "file_extension": ".py",
   "mimetype": "text/x-python",
   "name": "python",
   "nbconvert_exporter": "python",
   "pygments_lexer": "ipython2",
   "version": "2.7.6"
  }
 },
 "nbformat": 4,
 "nbformat_minor": 5
}
